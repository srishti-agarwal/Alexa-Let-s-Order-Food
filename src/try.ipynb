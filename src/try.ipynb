{
 "cells": [
  {
   "cell_type": "code",
   "execution_count": 2,
   "metadata": {
    "collapsed": true
   },
   "outputs": [],
   "source": [
    "import pandas as pd\n",
    "import graphlab as gl\n",
    "import pickle\n",
    "import numpy as np\n",
    "import bottlenose\n",
    "from bs4 import BeautifulSoup"
   ]
  },
  {
   "cell_type": "code",
   "execution_count": 4,
   "metadata": {
    "collapsed": false
   },
   "outputs": [
    {
     "data": {
      "text/html": [
       "<pre>Unable to parse line \"95303,B00401OZ1U,ATO7WKMVJD6XQ,\"Curcio \"\"\\\"\"\",0,0,5,1335398400,Metromint Water,Wonderful tasting water.  For one that doesn't like to drink soda's or juices because of the high sugar content this product is a great addition to the healthy drinking.  Also p...\"</pre>"
      ],
      "text/plain": [
       "Unable to parse line \"95303,B00401OZ1U,ATO7WKMVJD6XQ,\"Curcio \"\"\\\"\"\",0,0,5,1335398400,Metromint Water,Wonderful tasting water.  For one that doesn't like to drink soda's or juices because of the high sugar content this product is a great addition to the healthy drinking.  Also p...\""
      ]
     },
     "metadata": {},
     "output_type": "display_data"
    },
    {
     "data": {
      "text/html": [
       "<pre>1 lines failed to parse correctly</pre>"
      ],
      "text/plain": [
       "1 lines failed to parse correctly"
      ]
     },
     "metadata": {},
     "output_type": "display_data"
    },
    {
     "data": {
      "text/html": [
       "<pre>Finished parsing file D:\\workspace\\Alexa-Let-s-Order-Food\\data\\Reviews.csv</pre>"
      ],
      "text/plain": [
       "Finished parsing file D:\\workspace\\Alexa-Let-s-Order-Food\\data\\Reviews.csv"
      ]
     },
     "metadata": {},
     "output_type": "display_data"
    },
    {
     "data": {
      "text/html": [
       "<pre>Parsing completed. Parsed 100 lines in 0.468753 secs.</pre>"
      ],
      "text/plain": [
       "Parsing completed. Parsed 100 lines in 0.468753 secs."
      ]
     },
     "metadata": {},
     "output_type": "display_data"
    },
    {
     "name": "stdout",
     "output_type": "stream",
     "text": [
      "------------------------------------------------------\n",
      "Inferred types from first 100 line(s) of file as \n",
      "column_type_hints=[long,str,str,str,long,long,long,long,str,str]\n",
      "If parsing fails due to incorrect types, you can correct\n",
      "the inferred type list above and pass it to read_csv in\n",
      "the column_type_hints argument\n",
      "------------------------------------------------------\n"
     ]
    },
    {
     "data": {
      "text/html": [
       "<pre>Unable to parse line \"95303,B00401OZ1U,ATO7WKMVJD6XQ,\"Curcio \"\"\\\"\"\",0,0,5,1335398400,Metromint Water,Wonderful tasting water.  For one that doesn't like to drink soda's or juices because of the high sugar content this product is a great addition to the healthy drinking.  Also p...\"</pre>"
      ],
      "text/plain": [
       "Unable to parse line \"95303,B00401OZ1U,ATO7WKMVJD6XQ,\"Curcio \"\"\\\"\"\",0,0,5,1335398400,Metromint Water,Wonderful tasting water.  For one that doesn't like to drink soda's or juices because of the high sugar content this product is a great addition to the healthy drinking.  Also p...\""
      ]
     },
     "metadata": {},
     "output_type": "display_data"
    },
    {
     "data": {
      "text/html": [
       "<pre>Read 98051 lines. Lines per second: 133075</pre>"
      ],
      "text/plain": [
       "Read 98051 lines. Lines per second: 133075"
      ]
     },
     "metadata": {},
     "output_type": "display_data"
    },
    {
     "data": {
      "text/html": [
       "<pre>Unable to parse line \"514285,B0081X097M,ATO7WKMVJD6XQ,\"Curcio \"\"\\\"\"\",0,0,5,1335398400,Metromint Water,Wonderful tasting water.  For one that doesn't like to drink soda's or juices because of the high sugar content this product is a great addition to the healthy drinking.  Also ...\"</pre>"
      ],
      "text/plain": [
       "Unable to parse line \"514285,B0081X097M,ATO7WKMVJD6XQ,\"Curcio \"\"\\\"\"\",0,0,5,1335398400,Metromint Water,Wonderful tasting water.  For one that doesn't like to drink soda's or juices because of the high sugar content this product is a great addition to the healthy drinking.  Also ...\""
      ]
     },
     "metadata": {},
     "output_type": "display_data"
    },
    {
     "data": {
      "text/html": [
       "<pre>2 lines failed to parse correctly</pre>"
      ],
      "text/plain": [
       "2 lines failed to parse correctly"
      ]
     },
     "metadata": {},
     "output_type": "display_data"
    },
    {
     "data": {
      "text/html": [
       "<pre>Finished parsing file D:\\workspace\\Alexa-Let-s-Order-Food\\data\\Reviews.csv</pre>"
      ],
      "text/plain": [
       "Finished parsing file D:\\workspace\\Alexa-Let-s-Order-Food\\data\\Reviews.csv"
      ]
     },
     "metadata": {},
     "output_type": "display_data"
    },
    {
     "data": {
      "text/html": [
       "<pre>Parsing completed. Parsed 568452 lines in 3.42189 secs.</pre>"
      ],
      "text/plain": [
       "Parsing completed. Parsed 568452 lines in 3.42189 secs."
      ]
     },
     "metadata": {},
     "output_type": "display_data"
    },
    {
     "name": "stdout",
     "output_type": "stream",
     "text": [
      "+----+------------+----------------+-------------------------------+----------------------+\n",
      "| Id | ProductId  |     UserId     |          ProfileName          | HelpfulnessNumerator |\n",
      "+----+------------+----------------+-------------------------------+----------------------+\n",
      "| 1  | B001E4KFG0 | A3SGXH7AUHU8GW |           delmartian          |          1           |\n",
      "| 2  | B00813GRG4 | A1D87F6ZCVE5NK |             dll pa            |          0           |\n",
      "| 3  | B000LQOCH0 | ABXLMWJIXXAIN  | Natalia Corres \"Natalia Co... |          1           |\n",
      "| 4  | B000UA0QIQ | A395BORC6FGVXV |              Karl             |          3           |\n",
      "| 5  | B006K2ZZ7K | A1UQRSCLF8GW1T | Michael D. Bigham \"M. Wassir\" |          0           |\n",
      "| 6  | B006K2ZZ7K | ADT0SRK1MGOEU  |         Twoapennything        |          0           |\n",
      "| 7  | B006K2ZZ7K | A1SP2KVKFXXRU1 |       David C. Sullivan       |          0           |\n",
      "| 8  | B006K2ZZ7K | A3JRGQVEQN31IQ |       Pamela G. Williams      |          0           |\n",
      "| 9  | B000E7L2R4 | A1MZYO9TZK0BBI |            R. James           |          1           |\n",
      "| 10 | B00171APVA | A21BT40VZCCYT4 |         Carol A. Reed         |          0           |\n",
      "+----+------------+----------------+-------------------------------+----------------------+\n",
      "+------------------------+-------+------------+-------------------------------+\n",
      "| HelpfulnessDenominator | Score |    Time    |            Summary            |\n",
      "+------------------------+-------+------------+-------------------------------+\n",
      "|           1            |   5   | 1303862400 |     Good Quality Dog Food     |\n",
      "|           0            |   1   | 1346976000 |       Not as Advertised       |\n",
      "|           1            |   4   | 1219017600 |     \"Delight\" says it all     |\n",
      "|           3            |   2   | 1307923200 |         Cough Medicine        |\n",
      "|           0            |   5   | 1350777600 |          Great taffy          |\n",
      "|           0            |   4   | 1342051200 |           Nice Taffy          |\n",
      "|           0            |   5   | 1340150400 | Great!  Just as good as th... |\n",
      "|           0            |   5   | 1336003200 |     Wonderful, tasty taffy    |\n",
      "|           1            |   5   | 1322006400 |           Yay Barley          |\n",
      "|           0            |   5   | 1351209600 |        Healthy Dog Food       |\n",
      "+------------------------+-------+------------+-------------------------------+\n",
      "+-------------------------------+\n",
      "|              Text             |\n",
      "+-------------------------------+\n",
      "| I have bought several of t... |\n",
      "| Product arrived labeled as... |\n",
      "| This is a confection that ... |\n",
      "| If you are looking for the... |\n",
      "| Great taffy at a great pri... |\n",
      "| I got a wild hair for taff... |\n",
      "| This saltwater taffy had g... |\n",
      "| This taffy is so good.  It... |\n",
      "| Right now I'm mostly just ... |\n",
      "| This is a very healthy dog... |\n",
      "+-------------------------------+\n",
      "[568452 rows x 10 columns]\n",
      "Note: Only the head of the SFrame is printed.\n",
      "You can use print_rows(num_rows=m, num_columns=n) to print more rows and columns.\n"
     ]
    }
   ],
   "source": [
    "items = gl.SFrame.read_csv('../data/Reviews.csv')\n",
    "print items"
   ]
  },
  {
   "cell_type": "code",
   "execution_count": 54,
   "metadata": {
    "collapsed": false
   },
   "outputs": [],
   "source": [
    "trends = items.sort('Time', ascending= False)[:5000]"
   ]
  },
  {
   "cell_type": "code",
   "execution_count": 55,
   "metadata": {
    "collapsed": false
   },
   "outputs": [
    {
     "data": {
      "text/html": [
       "<pre>Recsys training: model = popularity</pre>"
      ],
      "text/plain": [
       "Recsys training: model = popularity"
      ]
     },
     "metadata": {},
     "output_type": "display_data"
    },
    {
     "data": {
      "text/html": [
       "<pre>Warning: Ignoring columns Id, ProfileName, HelpfulnessNumerator, HelpfulnessDenominator, Time, Summary, Text;</pre>"
      ],
      "text/plain": [
       "Warning: Ignoring columns Id, ProfileName, HelpfulnessNumerator, HelpfulnessDenominator, Time, Summary, Text;"
      ]
     },
     "metadata": {},
     "output_type": "display_data"
    },
    {
     "data": {
      "text/html": [
       "<pre>    To use these columns in scoring predictions, use a model that allows the use of additional features.</pre>"
      ],
      "text/plain": [
       "    To use these columns in scoring predictions, use a model that allows the use of additional features."
      ]
     },
     "metadata": {},
     "output_type": "display_data"
    },
    {
     "data": {
      "text/html": [
       "<pre>Preparing data set.</pre>"
      ],
      "text/plain": [
       "Preparing data set."
      ]
     },
     "metadata": {},
     "output_type": "display_data"
    },
    {
     "data": {
      "text/html": [
       "<pre>    Data has 5000 observations with 3197 users and 3752 items.</pre>"
      ],
      "text/plain": [
       "    Data has 5000 observations with 3197 users and 3752 items."
      ]
     },
     "metadata": {},
     "output_type": "display_data"
    },
    {
     "data": {
      "text/html": [
       "<pre>    Data prepared in: 0.031258s</pre>"
      ],
      "text/plain": [
       "    Data prepared in: 0.031258s"
      ]
     },
     "metadata": {},
     "output_type": "display_data"
    },
    {
     "data": {
      "text/html": [
       "<pre>5000 observations to process; with 3752 unique items.</pre>"
      ],
      "text/plain": [
       "5000 observations to process; with 3752 unique items."
      ]
     },
     "metadata": {},
     "output_type": "display_data"
    }
   ],
   "source": [
    "model = gl.popularity_recommender.create(trends, user_id='UserId', item_id='ProductId', target='Score')"
   ]
  },
  {
   "cell_type": "code",
   "execution_count": 68,
   "metadata": {
    "collapsed": false
   },
   "outputs": [
    {
     "data": {
      "text/html": [
       "<div style=\"max-height:1000px;max-width:1500px;overflow:auto;\"><table frame=\"box\" rules=\"cols\">\n",
       "    <tr>\n",
       "        <th style=\"padding-left: 1em; padding-right: 1em; text-align: center\">ProductId</th>\n",
       "        <th style=\"padding-left: 1em; padding-right: 1em; text-align: center\">score</th>\n",
       "        <th style=\"padding-left: 1em; padding-right: 1em; text-align: center\">rank</th>\n",
       "    </tr>\n",
       "    <tr>\n",
       "        <td style=\"padding-left: 1em; padding-right: 1em; text-align: center; vertical-align: top\">B007R900WA</td>\n",
       "        <td style=\"padding-left: 1em; padding-right: 1em; text-align: center; vertical-align: top\">4.9696969697</td>\n",
       "        <td style=\"padding-left: 1em; padding-right: 1em; text-align: center; vertical-align: top\">1</td>\n",
       "    </tr>\n",
       "    <tr>\n",
       "        <td style=\"padding-left: 1em; padding-right: 1em; text-align: center; vertical-align: top\">B005ZBZLT4</td>\n",
       "        <td style=\"padding-left: 1em; padding-right: 1em; text-align: center; vertical-align: top\">4.91666666667</td>\n",
       "        <td style=\"padding-left: 1em; padding-right: 1em; text-align: center; vertical-align: top\">2</td>\n",
       "    </tr>\n",
       "    <tr>\n",
       "        <td style=\"padding-left: 1em; padding-right: 1em; text-align: center; vertical-align: top\">B007Y59HVM</td>\n",
       "        <td style=\"padding-left: 1em; padding-right: 1em; text-align: center; vertical-align: top\">4.91666666667</td>\n",
       "        <td style=\"padding-left: 1em; padding-right: 1em; text-align: center; vertical-align: top\">3</td>\n",
       "    </tr>\n",
       "    <tr>\n",
       "        <td style=\"padding-left: 1em; padding-right: 1em; text-align: center; vertical-align: top\">B005HGAV8I</td>\n",
       "        <td style=\"padding-left: 1em; padding-right: 1em; text-align: center; vertical-align: top\">4.83333333333</td>\n",
       "        <td style=\"padding-left: 1em; padding-right: 1em; text-align: center; vertical-align: top\">4</td>\n",
       "    </tr>\n",
       "    <tr>\n",
       "        <td style=\"padding-left: 1em; padding-right: 1em; text-align: center; vertical-align: top\">B006N3I0DM</td>\n",
       "        <td style=\"padding-left: 1em; padding-right: 1em; text-align: center; vertical-align: top\">4.8</td>\n",
       "        <td style=\"padding-left: 1em; padding-right: 1em; text-align: center; vertical-align: top\">5</td>\n",
       "    </tr>\n",
       "    <tr>\n",
       "        <td style=\"padding-left: 1em; padding-right: 1em; text-align: center; vertical-align: top\">B006GA666U</td>\n",
       "        <td style=\"padding-left: 1em; padding-right: 1em; text-align: center; vertical-align: top\">4.8</td>\n",
       "        <td style=\"padding-left: 1em; padding-right: 1em; text-align: center; vertical-align: top\">6</td>\n",
       "    </tr>\n",
       "    <tr>\n",
       "        <td style=\"padding-left: 1em; padding-right: 1em; text-align: center; vertical-align: top\">B001D0IZBM</td>\n",
       "        <td style=\"padding-left: 1em; padding-right: 1em; text-align: center; vertical-align: top\">4.8</td>\n",
       "        <td style=\"padding-left: 1em; padding-right: 1em; text-align: center; vertical-align: top\">7</td>\n",
       "    </tr>\n",
       "    <tr>\n",
       "        <td style=\"padding-left: 1em; padding-right: 1em; text-align: center; vertical-align: top\">B0032RPLSY</td>\n",
       "        <td style=\"padding-left: 1em; padding-right: 1em; text-align: center; vertical-align: top\">4.8</td>\n",
       "        <td style=\"padding-left: 1em; padding-right: 1em; text-align: center; vertical-align: top\">8</td>\n",
       "    </tr>\n",
       "    <tr>\n",
       "        <td style=\"padding-left: 1em; padding-right: 1em; text-align: center; vertical-align: top\">B007TJGZ0Y</td>\n",
       "        <td style=\"padding-left: 1em; padding-right: 1em; text-align: center; vertical-align: top\">4.66666666667</td>\n",
       "        <td style=\"padding-left: 1em; padding-right: 1em; text-align: center; vertical-align: top\">9</td>\n",
       "    </tr>\n",
       "    <tr>\n",
       "        <td style=\"padding-left: 1em; padding-right: 1em; text-align: center; vertical-align: top\">B0098WV8F2</td>\n",
       "        <td style=\"padding-left: 1em; padding-right: 1em; text-align: center; vertical-align: top\">4.66666666667</td>\n",
       "        <td style=\"padding-left: 1em; padding-right: 1em; text-align: center; vertical-align: top\">10</td>\n",
       "    </tr>\n",
       "</table>\n",
       "[25 rows x 3 columns]<br/>Note: Only the head of the SFrame is printed.<br/>You can use print_rows(num_rows=m, num_columns=n) to print more rows and columns.\n",
       "</div>"
      ],
      "text/plain": [
       "Columns:\n",
       "\tProductId\tstr\n",
       "\tscore\tfloat\n",
       "\trank\tint\n",
       "\n",
       "Rows: 25\n",
       "\n",
       "Data:\n",
       "+------------+---------------+------+\n",
       "| ProductId  |     score     | rank |\n",
       "+------------+---------------+------+\n",
       "| B007R900WA |  4.9696969697 |  1   |\n",
       "| B005ZBZLT4 | 4.91666666667 |  2   |\n",
       "| B007Y59HVM | 4.91666666667 |  3   |\n",
       "| B005HGAV8I | 4.83333333333 |  4   |\n",
       "| B006N3I0DM |      4.8      |  5   |\n",
       "| B006GA666U |      4.8      |  6   |\n",
       "| B001D0IZBM |      4.8      |  7   |\n",
       "| B0032RPLSY |      4.8      |  8   |\n",
       "| B007TJGZ0Y | 4.66666666667 |  9   |\n",
       "| B0098WV8F2 | 4.66666666667 |  10  |\n",
       "+------------+---------------+------+\n",
       "[25 rows x 3 columns]\n",
       "Note: Only the head of the SFrame is printed.\n",
       "You can use print_rows(num_rows=m, num_columns=n) to print more rows and columns."
      ]
     },
     "execution_count": 68,
     "metadata": {},
     "output_type": "execute_result"
    }
   ],
   "source": [
    "model.recommend_from_interactions(trends[trends['Score']>4][:trends.num_rows()//30].remove_column('UserId'), k=25,\n",
    "                                  items = trends[(trends['Score']>2) & (trends['Score']<5)].select_column('ProductId'))"
   ]
  },
  {
   "cell_type": "code",
   "execution_count": 53,
   "metadata": {
    "collapsed": false
   },
   "outputs": [
    {
     "data": {
      "text/html": [
       "<div style=\"max-height:1000px;max-width:1500px;overflow:auto;\"><table frame=\"box\" rules=\"cols\">\n",
       "    <tr>\n",
       "        <th style=\"padding-left: 1em; padding-right: 1em; text-align: center\">ProductId</th>\n",
       "        <th style=\"padding-left: 1em; padding-right: 1em; text-align: center\">score</th>\n",
       "        <th style=\"padding-left: 1em; padding-right: 1em; text-align: center\">rank</th>\n",
       "    </tr>\n",
       "    <tr>\n",
       "        <td style=\"padding-left: 1em; padding-right: 1em; text-align: center; vertical-align: top\">B001PICX42</td>\n",
       "        <td style=\"padding-left: 1em; padding-right: 1em; text-align: center; vertical-align: top\">5.0</td>\n",
       "        <td style=\"padding-left: 1em; padding-right: 1em; text-align: center; vertical-align: top\">1</td>\n",
       "    </tr>\n",
       "    <tr>\n",
       "        <td style=\"padding-left: 1em; padding-right: 1em; text-align: center; vertical-align: top\">B000PILF24</td>\n",
       "        <td style=\"padding-left: 1em; padding-right: 1em; text-align: center; vertical-align: top\">5.0</td>\n",
       "        <td style=\"padding-left: 1em; padding-right: 1em; text-align: center; vertical-align: top\">2</td>\n",
       "    </tr>\n",
       "    <tr>\n",
       "        <td style=\"padding-left: 1em; padding-right: 1em; text-align: center; vertical-align: top\">B003P9XFW8</td>\n",
       "        <td style=\"padding-left: 1em; padding-right: 1em; text-align: center; vertical-align: top\">5.0</td>\n",
       "        <td style=\"padding-left: 1em; padding-right: 1em; text-align: center; vertical-align: top\">3</td>\n",
       "    </tr>\n",
       "    <tr>\n",
       "        <td style=\"padding-left: 1em; padding-right: 1em; text-align: center; vertical-align: top\">B00018CWN4</td>\n",
       "        <td style=\"padding-left: 1em; padding-right: 1em; text-align: center; vertical-align: top\">5.0</td>\n",
       "        <td style=\"padding-left: 1em; padding-right: 1em; text-align: center; vertical-align: top\">4</td>\n",
       "    </tr>\n",
       "    <tr>\n",
       "        <td style=\"padding-left: 1em; padding-right: 1em; text-align: center; vertical-align: top\">B0012VSXIM</td>\n",
       "        <td style=\"padding-left: 1em; padding-right: 1em; text-align: center; vertical-align: top\">5.0</td>\n",
       "        <td style=\"padding-left: 1em; padding-right: 1em; text-align: center; vertical-align: top\">5</td>\n",
       "    </tr>\n",
       "    <tr>\n",
       "        <td style=\"padding-left: 1em; padding-right: 1em; text-align: center; vertical-align: top\">B005FH23QM</td>\n",
       "        <td style=\"padding-left: 1em; padding-right: 1em; text-align: center; vertical-align: top\">5.0</td>\n",
       "        <td style=\"padding-left: 1em; padding-right: 1em; text-align: center; vertical-align: top\">6</td>\n",
       "    </tr>\n",
       "    <tr>\n",
       "        <td style=\"padding-left: 1em; padding-right: 1em; text-align: center; vertical-align: top\">B0001HAEKI</td>\n",
       "        <td style=\"padding-left: 1em; padding-right: 1em; text-align: center; vertical-align: top\">5.0</td>\n",
       "        <td style=\"padding-left: 1em; padding-right: 1em; text-align: center; vertical-align: top\">7</td>\n",
       "    </tr>\n",
       "    <tr>\n",
       "        <td style=\"padding-left: 1em; padding-right: 1em; text-align: center; vertical-align: top\">B004FQYYFM</td>\n",
       "        <td style=\"padding-left: 1em; padding-right: 1em; text-align: center; vertical-align: top\">5.0</td>\n",
       "        <td style=\"padding-left: 1em; padding-right: 1em; text-align: center; vertical-align: top\">8</td>\n",
       "    </tr>\n",
       "    <tr>\n",
       "        <td style=\"padding-left: 1em; padding-right: 1em; text-align: center; vertical-align: top\">B00816PNK2</td>\n",
       "        <td style=\"padding-left: 1em; padding-right: 1em; text-align: center; vertical-align: top\">5.0</td>\n",
       "        <td style=\"padding-left: 1em; padding-right: 1em; text-align: center; vertical-align: top\">9</td>\n",
       "    </tr>\n",
       "    <tr>\n",
       "        <td style=\"padding-left: 1em; padding-right: 1em; text-align: center; vertical-align: top\">B005BSPXBM</td>\n",
       "        <td style=\"padding-left: 1em; padding-right: 1em; text-align: center; vertical-align: top\">5.0</td>\n",
       "        <td style=\"padding-left: 1em; padding-right: 1em; text-align: center; vertical-align: top\">10</td>\n",
       "    </tr>\n",
       "</table>\n",
       "[10 rows x 3 columns]<br/>\n",
       "</div>"
      ],
      "text/plain": [
       "Columns:\n",
       "\tProductId\tstr\n",
       "\tscore\tfloat\n",
       "\trank\tint\n",
       "\n",
       "Rows: 10\n",
       "\n",
       "Data:\n",
       "+------------+-------+------+\n",
       "| ProductId  | score | rank |\n",
       "+------------+-------+------+\n",
       "| B001PICX42 |  5.0  |  1   |\n",
       "| B000PILF24 |  5.0  |  2   |\n",
       "| B003P9XFW8 |  5.0  |  3   |\n",
       "| B00018CWN4 |  5.0  |  4   |\n",
       "| B0012VSXIM |  5.0  |  5   |\n",
       "| B005FH23QM |  5.0  |  6   |\n",
       "| B0001HAEKI |  5.0  |  7   |\n",
       "| B004FQYYFM |  5.0  |  8   |\n",
       "| B00816PNK2 |  5.0  |  9   |\n",
       "| B005BSPXBM |  5.0  |  10  |\n",
       "+------------+-------+------+\n",
       "[10 rows x 3 columns]"
      ]
     },
     "execution_count": 53,
     "metadata": {},
     "output_type": "execute_result"
    }
   ],
   "source": [
    "model.recommend_from_interactions(trends[trends['Score']>3][:10].remove_column('UserId'))"
   ]
  },
  {
   "cell_type": "code",
   "execution_count": 74,
   "metadata": {
    "collapsed": false
   },
   "outputs": [
    {
     "data": {
      "text/plain": [
       "(60718,)"
      ]
     },
     "execution_count": 74,
     "metadata": {},
     "output_type": "execute_result"
    }
   ],
   "source": [
    "items[items['Score']>4].select_column('ProductId').unique().shape"
   ]
  },
  {
   "cell_type": "code",
   "execution_count": 80,
   "metadata": {
    "collapsed": false
   },
   "outputs": [
    {
     "data": {
      "text/plain": [
       "['#oc-R2HLGNHVIDQ0G1',\n",
       " '#oc-R13X3YIJ6GLT0C',\n",
       " '#oc-R119LM8D59ZW8Y',\n",
       " '#oc-R3LI5WJM4WD02C',\n",
       " '#oc-R2NE8ISCFVOS3',\n",
       " '#oc-R15343ZW0UTLMR',\n",
       " '#oc-R251I5HN964H2W',\n",
       " '#oc-R8SSRU94GFLRC',\n",
       " '#oc-R1J5JSGQL7KLJU',\n",
       " '#oc-R2J5IEG05RZUL4',\n",
       " '#oc-R1YKEOXC41C6Y5',\n",
       " '#oc-R2QKJ7I0V53JJB',\n",
       " '#oc-R2JLACXZ4EBXI8',\n",
       " '#oc-R39Y8ZC7RCUAAV',\n",
       " '#oc-R1J5TQWBNLGLAY',\n",
       " '#oc-R1XJQX1ZZBPD5E',\n",
       " '#oc-R34EIQSQ0VKF2N',\n",
       " '#oc-R1L78OM17TXMS7',\n",
       " '#oc-R1YD35BFIT2RUP',\n",
       " '#oc-R3MJOHGV9SQCJR',\n",
       " '#oc-R282JHQB4ARKZ7',\n",
       " '#oc-R30QU6O45MNX74',\n",
       " '#oc-R2FFR4TJBR8DPD',\n",
       " '#oc-R6W25ZJLA53PO',\n",
       " '#oc-R1CL2JEVUKLP2C',\n",
       " '#oc-R5ERXCL0DL1I4',\n",
       " '#oc-RMDH1MTJZQDHR',\n",
       " '#oc-R2N91H7F3QEXMS',\n",
       " '#oc-R1XE00JQIJIPUH',\n",
       " '#oc-R1DRI2RP4P2TRV',\n",
       " '#oc-R2PWOJTSJYZRGQ',\n",
       " '#oc-R115TNMSPFT9I7',\n",
       " '#oc-R3IPOATS03565U',\n",
       " '#oc-R36LVL0A37GRQP',\n",
       " '#oc-R3VLTV54QF1D75',\n",
       " '#oc-R1E24XY86FJXDH',\n",
       " '#oc-R3F6J64D5R7UUJ',\n",
       " '#oc-R2HV5DBJZSGU39',\n",
       " '#oc-R13EBF129DBX88',\n",
       " '#oc-R27B4266ZZ0GPP',\n",
       " '#oc-RH8POR57FMI5X',\n",
       " '#oc-RMZ34LEZUO6EY',\n",
       " '#oc-R32L0MMVMR414V',\n",
       " '#oc-R2T2GL1NAC2UMH',\n",
       " '#oc-R3LM5CZ7IBV2YB',\n",
       " '#oc-R3GJXOUGQ0IA7N',\n",
       " '#oc-R2ELH50PWSIEH1',\n",
       " '#oc-REQKM7TDXBKS7',\n",
       " '#oc-R3QF72YRJKFCDK',\n",
       " '#oc-R1PY268XD9G99L',\n",
       " '#oc-R2I896V302UXAQ',\n",
       " '#oc-R3RXA1UY9TAE87',\n",
       " '#oc-R1ICFZ7CRFKA5N',\n",
       " '#oc-R11DNU2NBKQ23Z',\n",
       " '#oc-R19W3DMF9X0I7C',\n",
       " '#oc-R3W5DW4JKJT228',\n",
       " '#oc-R2ZARZZGRIU309',\n",
       " '#oc-R1L8DYA0LM16K3',\n",
       " '#oc-RPS46SRDKTRZI',\n",
       " '#oc-R1HCNLIP7REOF2',\n",
       " '#oc-R37M7HQ8B2G9PJ',\n",
       " '#oc-R2C7F72WD2NEUW',\n",
       " '#oc-RPH2M7F3XVPSE',\n",
       " '#oc-R3O01FKT4K21GV',\n",
       " '#oc-RMHV320CGAS0O',\n",
       " '#oc-R34PXGSW6K9Q9A',\n",
       " '#oc-R2AR9GGE9WVSC3',\n",
       " '#oc-R35AMNGET9A7FO',\n",
       " '#oc-RHT38THTXPDMH',\n",
       " '#oc-R1669TSD0WO7EP',\n",
       " '#oc-R2GI4MU6AGGBTS',\n",
       " '#oc-R35YUP5T21KW2U',\n",
       " '#oc-R6LF0WYR2C9SB',\n",
       " '#oc-R2I5KQKFCNQ239',\n",
       " '#oc-RHAJQCQUG9JVW',\n",
       " '#oc-R3QVJD4FKUQKIF',\n",
       " '#oc-R26TNGDC3GD6FW',\n",
       " '#oc-R1Z5421E1DH837',\n",
       " '#oc-R2QRIFHKMX74HY',\n",
       " '#oc-RAX7795F3126S',\n",
       " '#oc-RQYR6P3WQGC32',\n",
       " '#oc-R242XV3ENMZELQ',\n",
       " '#oc-R25DHM3G5QFH5N',\n",
       " '#oc-R2RZWR5FKM97NR',\n",
       " '#oc-R2VJODW8FRRXEJ',\n",
       " '#oc-R2OOQE7R5EB0NO',\n",
       " '#oc-R1MHZFBFSNFPJ6',\n",
       " '#oc-R34S5XXW58I012',\n",
       " '#oc-R1PJZHS0R7NSIU',\n",
       " '#oc-R1HM2SQ1WTDKM1',\n",
       " '#oc-R9U5CVQD4NCMK',\n",
       " '#oc-R34PBE41YSFXZ4',\n",
       " '#oc-R67F980SN7SDY',\n",
       " '#oc-R1I879FCTH83GM',\n",
       " '#oc-RY4FGUQDYXIIB',\n",
       " '#oc-R8EZLM74R071X',\n",
       " '#oc-R1BKC1B35FFB0',\n",
       " '#oc-R2J9Z0H7P6GG8C',\n",
       " '#oc-RRLGQFNKXAD2Z',\n",
       " '#oc-R24NJ9EAUPQTE2',\n",
       " '#oc-R3B9REW4I3ER89',\n",
       " '#oc-R1EDGHS9PF6P5L',\n",
       " '#oc-R7CI6KRBWW53G',\n",
       " '#oc-R3RG7FCOOEHM2H',\n",
       " '#oc-R1522DF2LUL4G1',\n",
       " '#oc-R2CQETFE39ZTAT',\n",
       " '#oc-R3QVJD4FKUQKIF',\n",
       " '#oc-R26TNGDC3GD6FW',\n",
       " '#oc-R1Z5421E1DH837',\n",
       " '#oc-R2QRIFHKMX74HY',\n",
       " '#oc-RAX7795F3126S',\n",
       " '#oc-RQYR6P3WQGC32',\n",
       " '#oc-R242XV3ENMZELQ',\n",
       " '#oc-R25DHM3G5QFH5N',\n",
       " '#oc-R2RZWR5FKM97NR',\n",
       " '#oc-R2VJODW8FRRXEJ',\n",
       " '#oc-R2OOQE7R5EB0NO',\n",
       " '#oc-R1MHZFBFSNFPJ6',\n",
       " '#oc-R34S5XXW58I012',\n",
       " '#oc-R1PJZHS0R7NSIU',\n",
       " '#oc-R1HM2SQ1WTDKM1',\n",
       " '#oc-R9U5CVQD4NCMK',\n",
       " '#oc-R34PBE41YSFXZ4',\n",
       " '#oc-R67F980SN7SDY',\n",
       " '#oc-R1I879FCTH83GM',\n",
       " '#oc-RY4FGUQDYXIIB',\n",
       " '#oc-R8EZLM74R071X',\n",
       " '#oc-R2ULR70UT6GZPQ',\n",
       " '#oc-R3NZKZGLJEKBN3',\n",
       " '#oc-R320S5SAY7LRDE',\n",
       " '#oc-R2CQETFE39ZTAT',\n",
       " '#oc-R2MOR8M0C3KSK7',\n",
       " '#oc-R37BIITTCKZKLJ',\n",
       " '#oc-R1FUPE7GGTPFE9',\n",
       " '#oc-R3N5HMRMTDMPKA',\n",
       " '#oc-R103C0QSV1DF5E',\n",
       " '#oc-R1WT8QXGZCW9RU',\n",
       " '#oc-R1J5M6S2EUERD4',\n",
       " '#oc-R3LYZ89G4KQ9KG',\n",
       " '#oc-R315KFC1BY6GTY',\n",
       " '#oc-RHTFVCLEUIUY0',\n",
       " '#oc-R3L950A9DQXOGF',\n",
       " '#oc-R30XCON3EIQHI',\n",
       " '#oc-R1JAV4B39IOXAL',\n",
       " '#oc-RY2YBCTS1DTT5',\n",
       " '#oc-R36NOPFPZZQ3NN',\n",
       " '#oc-REBMPH49Y3GI7',\n",
       " '#oc-RNFCOA3SE6CUA',\n",
       " '#oc-R1EVPJIBW2MROJ',\n",
       " '#oc-R39HI2LQ9LHV32',\n",
       " '#oc-R31XNAUKEWAHVL',\n",
       " '#oc-R2I5AU09IL1R95',\n",
       " '#oc-R92ECWR98ATCZ',\n",
       " '#oc-R1Y9492Y54C7A4',\n",
       " '#oc-R1S6OJV4N0J07C',\n",
       " '#oc-R2UH5M9R81FAQG',\n",
       " '#oc-R2WWXB8WMOMUNQ',\n",
       " '#oc-RKLMXRCYYJPC8',\n",
       " '#oc-R120LO6OLNDPCG',\n",
       " '#oc-RL7Z9CN30TRXQ',\n",
       " '#oc-R1WRQ4QI1JPZZ1',\n",
       " '#oc-R28KFK52X6G9Z7',\n",
       " '#oc-R2YJB3QYVBIRGM',\n",
       " '#oc-R3CW88JBWTEZ0I',\n",
       " '#oc-RTTUMLKENL704',\n",
       " '#oc-R2L42GUIFKV0Z3',\n",
       " '#oc-RNUW40M25M4I4',\n",
       " '#oc-R3VPYGC8EAPLES',\n",
       " '#oc-R2T4CCHC2AETHN',\n",
       " '#oc-R2AQ2GKHB7YE1E',\n",
       " '#oc-RV1CL5MB39LEK',\n",
       " '#oc-R2GHQVSQ3AYTE9',\n",
       " '#oc-RMN5A4BC01XJV',\n",
       " '#oc-R3CWEI1SAZ2U7H',\n",
       " '#oc-R3378ONZT42ML5',\n",
       " '#oc-R2I6W317S4FHAU',\n",
       " '#oc-RXSNTEGUD5F26',\n",
       " '#oc-RB8HBT019NHW9',\n",
       " '#oc-R2XHEXATHR854G',\n",
       " '#oc-R2PS459CVHZKJL',\n",
       " '#oc-R192YGWMM86YIU',\n",
       " '#oc-R2BZW5PLDUZHM1',\n",
       " '#oc-R2RUAJOPVDG63Z',\n",
       " '#oc-R2J2UPVOOKS7ER',\n",
       " '#oc-R3G821DX8EOJ3R',\n",
       " '#oc-R24BVFW0IAWS5B',\n",
       " '#oc-RBBMGDEYVK78C',\n",
       " '#oc-R1KU5HKP3S3TXV',\n",
       " '#oc-R1A8CVV3LZ4W8Q',\n",
       " '#oc-R18VQWFOMHGFVE',\n",
       " '#oc-R2UN2SBMGXH9E9',\n",
       " '#oc-R1L7ZYB2J6ZL8F',\n",
       " '#oc-R2WCS9J1BU09FS',\n",
       " '#oc-R2KCIJHXTXT0KU',\n",
       " '#oc-R1A1AOCIP53NOM',\n",
       " '#oc-R2JEJ80Z975G82',\n",
       " '#oc-R2K1Z48V7YY9HT',\n",
       " '#oc-R2R4QWSMO8I8YB',\n",
       " '#oc-R1CRW5BOSI2J9P',\n",
       " '#oc-R24XB0UZD3K53O',\n",
       " '#oc-R2SMX6LG3FFJ32',\n",
       " '#oc-R1WIBE7UA1Y7XY',\n",
       " '#oc-R1I7C4F4WUF2PH',\n",
       " '#oc-R14VLCY75KIBSB',\n",
       " '#oc-R17KN3F3UGQSU0',\n",
       " '#oc-R3OTZHRKTMTV8W',\n",
       " '#oc-R2CIG5JYXHVPEE',\n",
       " '#oc-RGL0JHVXBFQFA',\n",
       " '#oc-R2E9Y1E0G5IIB1',\n",
       " '#oc-R1KIN7Z6UZUU8Q',\n",
       " '#oc-R2M3KDKLRT9W0L',\n",
       " '#oc-R3NL6BE4JWA8Y0',\n",
       " '#oc-R3JZ6TGV9JTPFQ',\n",
       " '#oc-R2GDRKIV15IZHW',\n",
       " '#oc-R2O4E9SPR08RNA',\n",
       " '#oc-R15OCG1KF51S4F',\n",
       " '#oc-R20T17BLTNKA3',\n",
       " '#oc-R1730HL4795MHX',\n",
       " '#oc-R3J6DE3FJLIVMZ',\n",
       " '#oc-R1VHP4GD3MVIGG',\n",
       " '#oc-R2R9TFK97GIFOR',\n",
       " '#oc-RRG64YR1U9G1Z',\n",
       " '#oc-R1MQHH4ZP0XHHN',\n",
       " '#oc-RDSEWEOB68RX0',\n",
       " '#oc-R1791MZMDMM68R',\n",
       " '#oc-R11T1PHWNO7KEZ',\n",
       " '#oc-R398TCQXEE8FB1',\n",
       " '#oc-R1PZMXFC48NDDQ',\n",
       " '#oc-R1BR0ZAELEXWK9',\n",
       " '#oc-RASEEQYZ52553',\n",
       " '#oc-R14ZUK54VMOGJS',\n",
       " '#oc-R152UR09M996EM',\n",
       " '#oc-R2EJ2GXWIAB437',\n",
       " '#oc-RF8LJUCBBM24R',\n",
       " '#oc-RKXSYHUNJ1G19',\n",
       " '#oc-R4X2FBRWXLYMF',\n",
       " '#oc-R39ZT6SB1RCP8Y',\n",
       " '#oc-R2CFWMT7MB8XMR',\n",
       " '#oc-R1ZP24MP75MNWZ',\n",
       " '#oc-R5QN5V5M8J4L7',\n",
       " '#oc-R3R59Z61N8QY2S',\n",
       " '#oc-R2JCC3EI274MDF',\n",
       " '#oc-R3EITU8JKC29II',\n",
       " '#oc-R3376HJIKZWS95',\n",
       " '#oc-R1SX2Y5STGHSSG',\n",
       " '#oc-RPFZ3SFR2VXWA',\n",
       " '#oc-R36D56XD4RTHQP',\n",
       " '#oc-R33A2HF65FLYXF',\n",
       " '#oc-R366Y9INLHMV2U',\n",
       " '#oc-R1E8ZSZLNTT3DS',\n",
       " '#oc-R16HPROGAO1HS6',\n",
       " '#oc-R1O2TLB33QH80R',\n",
       " '#oc-R3OV5TCJV2MN6E',\n",
       " '#oc-R2SVV5KG3GN1O1',\n",
       " '#oc-R2EGPCEJ9FAS3',\n",
       " '#oc-RXLWWUASQSA4L',\n",
       " '#oc-R2DNMJY02UXQMM',\n",
       " '#oc-R1TNRTD1MQTVYM',\n",
       " '#oc-R2XPA5PDTSKFER',\n",
       " '#oc-R1GUQD6SLYACOQ',\n",
       " '#oc-RDQ0MYQYDGGEK',\n",
       " '#oc-R2Z2P7V8UEXH2',\n",
       " '#oc-R3R54OYMF3T6ZJ',\n",
       " '#oc-R2KYB1AMCHLOG3',\n",
       " '#oc-R2HXSXDP1HIXZP',\n",
       " '#oc-R1B9W981WGB5D0',\n",
       " '#oc-R1OGEG6X7R7642',\n",
       " '#oc-R7J3WU9V5ZB4H',\n",
       " '#oc-R19QDOY2PXS15',\n",
       " '#oc-R18XETRRZHQVPE',\n",
       " '#oc-R2ARZA89FMQ7NU',\n",
       " '#oc-RBNUNZ8FNWU65',\n",
       " '#oc-R1QPS7FOBXKEUI',\n",
       " '#oc-R1JTKM81Q3DMW8',\n",
       " '#oc-R5VRHDEVUCFI6',\n",
       " '#oc-RKF6AFGSSGCT7',\n",
       " '#oc-R3Q8Z35P2D8VOW',\n",
       " '#oc-R2T3K0QPL1KWSY',\n",
       " '#oc-R1OL5ERW8B6QV2',\n",
       " '#oc-RXJP29KQC7JFG',\n",
       " '#oc-R1WMLZ1CW1ZSJC',\n",
       " '#oc-R1QC32X44AD5TM',\n",
       " '#oc-R3V1B3CQ6XXZLA',\n",
       " '#oc-R3Q4YFF8R7XVYR',\n",
       " '#oc-R38Y2XBDC1YSK9',\n",
       " '#oc-R3LBXC8M092D8N',\n",
       " '#oc-R39CJD8FGFI1JF',\n",
       " '#oc-R2VNVRO5VLW2AC',\n",
       " '#oc-RXKX7XDTBUWZI',\n",
       " '#oc-R1CSQFEG6ZI93U',\n",
       " '#oc-R1T7FSRRR9M1QJ',\n",
       " '#oc-R2AS2BHTRBGEBA',\n",
       " '#oc-R369KQZWAJY2YO',\n",
       " '#oc-RJDA7PI12TR29',\n",
       " '#oc-R1K507Q6XH9VMK',\n",
       " '#oc-R5GQH7DGZRMMN',\n",
       " '#oc-R375ESEP91C1CN',\n",
       " '#oc-R1SGV4TDC886PI',\n",
       " '#oc-ROAVF7R8RDJ67',\n",
       " '#oc-RJYKFX28LX84J',\n",
       " '#oc-RJT1BEPHJZD4U',\n",
       " '#oc-R3PX3DR3EXNU72',\n",
       " '#oc-REZAFY2PGSQN9',\n",
       " '#oc-R10UA029WVWIUI',\n",
       " '#oc-R38HGDZKOSW736',\n",
       " '#oc-R3T49QLEHSLO8Q',\n",
       " '#oc-R2CQW2ZOJH2NRW',\n",
       " '#oc-R2VJK62IOXO4D8',\n",
       " '#oc-RTQ6CJNOWGDA5',\n",
       " '#oc-R1CA7UG1P8ATIR',\n",
       " '#oc-R256HNV7LG55X9',\n",
       " '#oc-R3B6K46ORGN7AU',\n",
       " '#oc-R1L7FHRQYER2JG',\n",
       " '#oc-R3LV7INTW9K7D9',\n",
       " '#oc-R11PW3CFBB4BEP',\n",
       " '#oc-R1SUH4ULVHVEZS',\n",
       " '#oc-R3UMKLJEZX4B0D',\n",
       " '#oc-R2HV1DPND8MYK5',\n",
       " '#oc-R1PG9RG4BE0TUO',\n",
       " '#oc-R2YWTE7IVV5F6T',\n",
       " '#oc-R2ZSS4BRWR3VA6',\n",
       " '#oc-R25H00YXSICYHM',\n",
       " '#oc-R8K4UTB2ZEOZB',\n",
       " '#oc-R2ZRD0CUP3Z9E2',\n",
       " '#oc-R1WBED904KMM5',\n",
       " '#oc-R3IX025L68IP59',\n",
       " '#oc-RKAMX6ABRGA1W',\n",
       " '#oc-R18WQYZLWDZTSW',\n",
       " '#oc-R3HOUN9277BVTK',\n",
       " '#oc-R1XE00JQIJIPUH',\n",
       " '#oc-R1DRI2RP4P2TRV',\n",
       " '#oc-R2PWOJTSJYZRGQ',\n",
       " '#oc-R115TNMSPFT9I7',\n",
       " '#oc-R3IPOATS03565U',\n",
       " '#oc-R36LVL0A37GRQP',\n",
       " '#oc-R3VLTV54QF1D75',\n",
       " '#oc-R1E24XY86FJXDH',\n",
       " '#oc-R3F6J64D5R7UUJ',\n",
       " '#oc-R2HV5DBJZSGU39',\n",
       " '#oc-R13EBF129DBX88',\n",
       " '#oc-R27B4266ZZ0GPP',\n",
       " '#oc-RH8POR57FMI5X',\n",
       " '#oc-RMZ34LEZUO6EY',\n",
       " '#oc-R32L0MMVMR414V',\n",
       " '#oc-R2T2GL1NAC2UMH',\n",
       " '#oc-R3LM5CZ7IBV2YB',\n",
       " '#oc-R3GJXOUGQ0IA7N',\n",
       " '#oc-R2ELH50PWSIEH1',\n",
       " '#oc-REQKM7TDXBKS7',\n",
       " '#oc-R3QF72YRJKFCDK',\n",
       " '#oc-R1PY268XD9G99L',\n",
       " '#oc-R2I896V302UXAQ',\n",
       " '#oc-R3RXA1UY9TAE87',\n",
       " '#oc-R1ICFZ7CRFKA5N',\n",
       " '#oc-R11DNU2NBKQ23Z',\n",
       " '#oc-R19W3DMF9X0I7C',\n",
       " '#oc-R3W5DW4JKJT228',\n",
       " '#oc-R2ZARZZGRIU309',\n",
       " '#oc-R1L8DYA0LM16K3',\n",
       " '#oc-RPS46SRDKTRZI',\n",
       " '#oc-R1HCNLIP7REOF2',\n",
       " '#oc-R37M7HQ8B2G9PJ',\n",
       " '#oc-R2C7F72WD2NEUW',\n",
       " '#oc-RPH2M7F3XVPSE',\n",
       " '#oc-R3O01FKT4K21GV',\n",
       " '#oc-RMHV320CGAS0O',\n",
       " '#oc-R34PXGSW6K9Q9A',\n",
       " '#oc-R2AR9GGE9WVSC3',\n",
       " '#oc-R35AMNGET9A7FO',\n",
       " '#oc-RHT38THTXPDMH',\n",
       " '#oc-R1669TSD0WO7EP',\n",
       " '#oc-R2GI4MU6AGGBTS',\n",
       " '#oc-R35YUP5T21KW2U',\n",
       " '#oc-R6LF0WYR2C9SB',\n",
       " '#oc-R2I5KQKFCNQ239',\n",
       " '#oc-RHAJQCQUG9JVW',\n",
       " '#oc-RVL1KG7B9OCG7',\n",
       " '#oc-ROHUCFFNAIA4K',\n",
       " '#oc-R12KPBODL2B5ZD',\n",
       " '#oc-RTHI84TEHN2AA',\n",
       " '#oc-R2YKMI6BFV0RA7',\n",
       " '#oc-R2H9Q62BAPDLIG',\n",
       " '#oc-RNMDR27B0MP1I',\n",
       " '#oc-R2NE8ISCFVOS3',\n",
       " '#oc-RK0HRTGDS8TF3',\n",
       " '#oc-R2ZTU0FEJBQXE7',\n",
       " '#oc-R2MZW62KGLBDIU',\n",
       " '#oc-R3GE8AOJOSUJVX',\n",
       " '#oc-R2B86BJE5FNKXX',\n",
       " '#oc-R19EJ3VEA88T6O',\n",
       " '#oc-R1U8FAII0QYOT3',\n",
       " '#oc-R31AI08Q9HLVF1',\n",
       " '#oc-RS2VFRNYYRVUG',\n",
       " '#oc-R26DKYCO954ZWP',\n",
       " '#oc-R2XZVYL146WRFL',\n",
       " '#oc-RKU1BA6XFA3Q4',\n",
       " '#oc-R2R45EEG606NCJ',\n",
       " '#oc-R155JB2SA58E17',\n",
       " '#oc-R3EDGA2893DM4Y',\n",
       " '#oc-R11O5J5ZVQE25C',\n",
       " '#oc-R2M17G7NB9RAIV',\n",
       " '#oc-R2YPVWM76O2TFX',\n",
       " '#oc-R1QHGBT11WAS7G',\n",
       " '#oc-R14ZSRYW2YB41B',\n",
       " '#oc-R34PQ2ORKQ6WCD',\n",
       " '#oc-R3TXZAQ0JD85LR',\n",
       " '#oc-R2HWL8UHAIMFRS',\n",
       " '#oc-R1OE1OPY34LOC8',\n",
       " '#oc-R3SRKE3YQ2BNES',\n",
       " '#oc-R2K9AJ2LWO7ZUJ',\n",
       " '#oc-R162D7S0A880MV',\n",
       " '#oc-R1CF9LIM90SAB6',\n",
       " '#oc-R3RMG4F3JAN4CE',\n",
       " '#oc-R1GKUU1PTIDIZ7',\n",
       " '#oc-R2W66Y63G88976',\n",
       " '#oc-R3TZTZQ7UHNM8Y',\n",
       " '#oc-R11D9D7SHXIJB9',\n",
       " '#oc-R1UO6NAAGVBW7Z',\n",
       " '#oc-R1HFLTAYDCLBBP',\n",
       " '#oc-RUHNHDHN9HG4Z',\n",
       " '#oc-R3RQNMHS7481DE',\n",
       " '#oc-R2MG5C3DMRU8Q0',\n",
       " '#oc-R13NNUL4EKL4FL',\n",
       " '#oc-RUCLMJ3IUSWPC',\n",
       " '#oc-R1VRD09DW4H2HI',\n",
       " '#oc-R2W0C6DARSLJ0S',\n",
       " '#oc-R1K4OCJ8HEIEDY',\n",
       " '#oc-R12MGTQS5KZZRV',\n",
       " '#oc-R3F0UDHOQC1RNU',\n",
       " '#oc-R3DERHJ8UWPZZ',\n",
       " '#oc-RBXFUOOK09Q2B',\n",
       " '#oc-R3OS88C8I7GSS5',\n",
       " '#oc-R30NTIGTVO109I',\n",
       " '#oc-RMBODWNVK1H1D',\n",
       " '#oc-RXCJ97CMQTXVA',\n",
       " '#oc-R37JLBWIMO5N0A',\n",
       " '#oc-R2F3I37IKVM0H0',\n",
       " '#oc-R2OXMDDCX58FIL',\n",
       " '#oc-RSZMLJGJRON5W',\n",
       " '#oc-RODMQLZAXFCUG',\n",
       " '#oc-R163CP16SRRI50',\n",
       " '#oc-RXFX0AFFBDSJN',\n",
       " '#oc-R28I1AL1ZAZLXL',\n",
       " '#oc-R1GSBW9QIVY489',\n",
       " '#oc-RVL1KG7B9OCG7',\n",
       " '#oc-ROHUCFFNAIA4K',\n",
       " '#oc-R12KPBODL2B5ZD',\n",
       " '#oc-RTHI84TEHN2AA',\n",
       " '#oc-R2YKMI6BFV0RA7',\n",
       " '#oc-R2H9Q62BAPDLIG',\n",
       " '#oc-RNMDR27B0MP1I',\n",
       " '#oc-R2NE8ISCFVOS3',\n",
       " '#oc-R10LT57ZGIB140',\n",
       " '#oc-RSY6AL41NKUEH',\n",
       " '#oc-R7FDPX5Y0AZUZ',\n",
       " '#oc-R2CW09YNAH2H4R',\n",
       " '#oc-R2SXB3L5XPV97Y',\n",
       " '#oc-RL12MW8DW922U',\n",
       " '#oc-R2H7Z7E2A1H0F3',\n",
       " '#oc-RFWZSYZF1V4YC',\n",
       " '#oc-R2NTZIG65LJ0RB',\n",
       " '#oc-R1KACAU4D4MYL4',\n",
       " '#oc-R3L1AW830LGH1I',\n",
       " '#oc-R1I167FM1Y3677',\n",
       " '#oc-R15343ZW0UTLMR',\n",
       " '#oc-R251I5HN964H2W',\n",
       " '#oc-R8SSRU94GFLRC',\n",
       " '#oc-R1J5JSGQL7KLJU',\n",
       " '#oc-R2J5IEG05RZUL4',\n",
       " '#oc-R1YKEOXC41C6Y5',\n",
       " '#oc-R2QKJ7I0V53JJB',\n",
       " '#oc-R2JLACXZ4EBXI8',\n",
       " '#oc-R39Y8ZC7RCUAAV',\n",
       " '#oc-R1J5TQWBNLGLAY',\n",
       " '#oc-R1XJQX1ZZBPD5E',\n",
       " '#oc-R34EIQSQ0VKF2N',\n",
       " '#oc-R1L78OM17TXMS7',\n",
       " '#oc-R1YD35BFIT2RUP',\n",
       " '#oc-R3MJOHGV9SQCJR',\n",
       " '#oc-R282JHQB4ARKZ7',\n",
       " '#oc-R30QU6O45MNX74',\n",
       " '#oc-R2FFR4TJBR8DPD',\n",
       " '#oc-R6W25ZJLA53PO',\n",
       " '#oc-R1CL2JEVUKLP2C',\n",
       " '#oc-R5ERXCL0DL1I4',\n",
       " '#oc-RMDH1MTJZQDHR',\n",
       " '#oc-R2N91H7F3QEXMS',\n",
       " '#oc-R2B86BJE5FNKXX',\n",
       " '#oc-R19EJ3VEA88T6O',\n",
       " '#oc-R1U8FAII0QYOT3',\n",
       " '#oc-R31AI08Q9HLVF1',\n",
       " '#oc-RS2VFRNYYRVUG',\n",
       " '#oc-R26DKYCO954ZWP',\n",
       " '#oc-R2XZVYL146WRFL',\n",
       " '#oc-RKU1BA6XFA3Q4',\n",
       " '#oc-R2R45EEG606NCJ',\n",
       " '#oc-R155JB2SA58E17',\n",
       " '#oc-R3EDGA2893DM4Y',\n",
       " '#oc-R11O5J5ZVQE25C',\n",
       " '#oc-R2M17G7NB9RAIV',\n",
       " '#oc-R2YPVWM76O2TFX',\n",
       " '#oc-R1QHGBT11WAS7G',\n",
       " '#oc-R14ZSRYW2YB41B',\n",
       " '#oc-R34PQ2ORKQ6WCD',\n",
       " '#oc-R3TXZAQ0JD85LR',\n",
       " '#oc-R2HWL8UHAIMFRS',\n",
       " '#oc-R1OE1OPY34LOC8',\n",
       " '#oc-R3SRKE3YQ2BNES',\n",
       " '#oc-R2K9AJ2LWO7ZUJ',\n",
       " '#oc-R162D7S0A880MV',\n",
       " '#oc-R1CF9LIM90SAB6',\n",
       " '#oc-R3RMG4F3JAN4CE',\n",
       " '#oc-R1GKUU1PTIDIZ7',\n",
       " '#oc-R2W66Y63G88976',\n",
       " '#oc-R3TZTZQ7UHNM8Y',\n",
       " '#oc-R11D9D7SHXIJB9',\n",
       " '#oc-R1UO6NAAGVBW7Z',\n",
       " '#oc-R1HFLTAYDCLBBP',\n",
       " '#oc-RUHNHDHN9HG4Z',\n",
       " '#oc-R3RQNMHS7481DE',\n",
       " '#oc-R2MG5C3DMRU8Q0',\n",
       " '#oc-R13NNUL4EKL4FL',\n",
       " '#oc-RUCLMJ3IUSWPC',\n",
       " '#oc-R1VRD09DW4H2HI',\n",
       " '#oc-R2W0C6DARSLJ0S',\n",
       " '#oc-R1K4OCJ8HEIEDY',\n",
       " '#oc-R12MGTQS5KZZRV',\n",
       " '#oc-R3F0UDHOQC1RNU',\n",
       " '#oc-R3DERHJ8UWPZZ',\n",
       " '#oc-RBXFUOOK09Q2B',\n",
       " '#oc-R3OS88C8I7GSS5',\n",
       " '#oc-R30NTIGTVO109I',\n",
       " '#oc-RMBODWNVK1H1D',\n",
       " '#oc-RXCJ97CMQTXVA',\n",
       " '#oc-R37JLBWIMO5N0A',\n",
       " '#oc-R2F3I37IKVM0H0',\n",
       " '#oc-R2OXMDDCX58FIL',\n",
       " '#oc-RSZMLJGJRON5W',\n",
       " '#oc-RODMQLZAXFCUG',\n",
       " '#oc-R163CP16SRRI50',\n",
       " '#oc-RXFX0AFFBDSJN',\n",
       " '#oc-R28I1AL1ZAZLXL',\n",
       " '#oc-R1GSBW9QIVY489',\n",
       " '#oc-R1OM1RTTXEI93C',\n",
       " '#oc-R1N4A8GFO9QIPE',\n",
       " '#oc-R2B86BJE5FNKXX',\n",
       " '#oc-R19EJ3VEA88T6O',\n",
       " '#oc-R1U8FAII0QYOT3',\n",
       " '#oc-R31AI08Q9HLVF1',\n",
       " '#oc-RS2VFRNYYRVUG',\n",
       " '#oc-R26DKYCO954ZWP',\n",
       " '#oc-R2XZVYL146WRFL',\n",
       " '#oc-RKU1BA6XFA3Q4',\n",
       " '#oc-R2R45EEG606NCJ',\n",
       " '#oc-R155JB2SA58E17',\n",
       " '#oc-R3EDGA2893DM4Y',\n",
       " '#oc-R11O5J5ZVQE25C',\n",
       " '#oc-R2M17G7NB9RAIV',\n",
       " '#oc-R2YPVWM76O2TFX',\n",
       " '#oc-R1QHGBT11WAS7G',\n",
       " '#oc-R14ZSRYW2YB41B',\n",
       " '#oc-R34PQ2ORKQ6WCD',\n",
       " '#oc-R3TXZAQ0JD85LR',\n",
       " '#oc-R2HWL8UHAIMFRS',\n",
       " '#oc-R1OE1OPY34LOC8',\n",
       " '#oc-R3SRKE3YQ2BNES',\n",
       " '#oc-R2K9AJ2LWO7ZUJ',\n",
       " '#oc-R162D7S0A880MV',\n",
       " '#oc-R1CF9LIM90SAB6',\n",
       " '#oc-R3RMG4F3JAN4CE',\n",
       " '#oc-R1GKUU1PTIDIZ7',\n",
       " '#oc-R2W66Y63G88976',\n",
       " '#oc-R3TZTZQ7UHNM8Y',\n",
       " '#oc-R11D9D7SHXIJB9',\n",
       " '#oc-R1UO6NAAGVBW7Z',\n",
       " '#oc-R1HFLTAYDCLBBP',\n",
       " '#oc-RUHNHDHN9HG4Z',\n",
       " '#oc-R3RQNMHS7481DE',\n",
       " '#oc-R2MG5C3DMRU8Q0',\n",
       " '#oc-R13NNUL4EKL4FL',\n",
       " '#oc-RUCLMJ3IUSWPC',\n",
       " '#oc-R1VRD09DW4H2HI',\n",
       " '#oc-R2W0C6DARSLJ0S',\n",
       " '#oc-R1K4OCJ8HEIEDY',\n",
       " '#oc-R12MGTQS5KZZRV',\n",
       " '#oc-R3F0UDHOQC1RNU',\n",
       " '#oc-R3DERHJ8UWPZZ',\n",
       " '#oc-RBXFUOOK09Q2B',\n",
       " '#oc-R3OS88C8I7GSS5',\n",
       " '#oc-R30NTIGTVO109I',\n",
       " '#oc-RMBODWNVK1H1D',\n",
       " '#oc-RXCJ97CMQTXVA',\n",
       " '#oc-R37JLBWIMO5N0A',\n",
       " '#oc-R2F3I37IKVM0H0',\n",
       " '#oc-R2OXMDDCX58FIL',\n",
       " '#oc-RSZMLJGJRON5W',\n",
       " '#oc-RODMQLZAXFCUG',\n",
       " '#oc-R163CP16SRRI50',\n",
       " '#oc-RXFX0AFFBDSJN',\n",
       " '#oc-R28I1AL1ZAZLXL',\n",
       " '#oc-R1GSBW9QIVY489',\n",
       " '#oc-R35HNNIL3NF69J',\n",
       " '#oc-R1N9YSUKSTV2M0',\n",
       " '#oc-R74G863TQ9F2K',\n",
       " '#oc-R2A6KSO0JFR6PV',\n",
       " '#oc-R32YZ2ME31DM7Y',\n",
       " '#oc-R3RHKFUZ0HQ136',\n",
       " '#oc-R1L6RAE8NWP3BN',\n",
       " '#oc-R109MU5OBBZ59U',\n",
       " '#oc-R1OXVJ55Q3COZC',\n",
       " '#oc-RIYZNCDB7XQJX',\n",
       " '#oc-R1Q3A53FLEUYGJ',\n",
       " '#oc-R1HQD1WNMEU87U',\n",
       " '#oc-R270MXCQO96SW5',\n",
       " '#oc-R2JBOY3BVQLMNQ',\n",
       " '#oc-R5TUA8ZSYSNSE',\n",
       " '#oc-R35TWGEXHF2L3G',\n",
       " '#oc-RWPIA8Q9VWJ40',\n",
       " '#oc-RRXQ9WWDNJRMG',\n",
       " '#oc-R10LFEMQEW6QGZ',\n",
       " '#oc-R2BYJKL21N7DU9',\n",
       " '#oc-R2C1Z26VPQHGIF',\n",
       " '#oc-R7XOEZJN6YQMF',\n",
       " '#oc-R380SZNCHL41PP',\n",
       " '#oc-R1R9YA2J51EY0A',\n",
       " '#oc-R18WCIOVC1O7U3',\n",
       " '#oc-R2XC4EZLEGDB6T',\n",
       " '#oc-R2NJ6AJ4FFIY2X',\n",
       " '#oc-R2MV6EKMKO78L2',\n",
       " '#oc-R33RCX8AAPSI9',\n",
       " '#oc-R2KZUCYX33VHUR',\n",
       " '#oc-R8D0D8LAOD2Z9',\n",
       " '#oc-R3UC6GDIA79G96',\n",
       " '#oc-R32PRO9R9OEIBB',\n",
       " '#oc-R3PPTIPFBA7NPQ',\n",
       " '#oc-RFNGP3MWMAU76',\n",
       " '#oc-R2H4ECH3FPPM6Y',\n",
       " '#oc-R2AET84WTB0SX5',\n",
       " '#oc-R1JD33DWYAOZAP',\n",
       " '#oc-R3HMF6ODAC2R4',\n",
       " '#oc-R1AQH0RQMTL1Y9',\n",
       " '#oc-R2IAZ7AQCNXD53',\n",
       " '#oc-R19TGMUT9ZUY0G',\n",
       " '#oc-R30850MDCRIZJ5',\n",
       " '#oc-R317IV2026UMOV',\n",
       " '#oc-R3S1S27T3LPH8J',\n",
       " '#oc-R3VHILCW5IVHL8',\n",
       " '#oc-RHK2VGC38EULK',\n",
       " '#oc-R3BDHOTWFGS67B',\n",
       " '#oc-R2GTLUGFBPA5AP',\n",
       " '#oc-R2HV741PDFL75Q',\n",
       " '#oc-R1XK2SYVVK4FZA',\n",
       " '#oc-R3G2DD7ARNLNFA',\n",
       " '#oc-R3E0F1HJ1LBJWI',\n",
       " '#oc-R1UHB5HAUGHE85',\n",
       " '#oc-R3OZAR95DCO73U',\n",
       " '#oc-R3JW8TXVFCRK3B',\n",
       " '#oc-R1P45E92XO67UX',\n",
       " '#oc-RBQSDDFG0AUE1',\n",
       " '#oc-R23OHF8O4IALHG',\n",
       " '#oc-R30FGA51P8U33R',\n",
       " '#oc-RDPBV6VI4WKJ',\n",
       " '#oc-R30MZZEFKNU7ED',\n",
       " '#oc-R11D9LKDAN5NQJ',\n",
       " '#oc-R1GRL0HPHZ63DZ',\n",
       " '#oc-R15LBVAVIE5O2X',\n",
       " '#oc-R2PKZHP3H5OVJW',\n",
       " '#oc-R2GESI3K4U8TGQ',\n",
       " '#oc-R2RIBQ0M86DM9W',\n",
       " '#oc-R3LTCHVHU0MIXA',\n",
       " '#oc-R355S2078GNWM4',\n",
       " '#oc-R22FWY5KIS6MKC',\n",
       " '#oc-R24N4GHDU6SMAP',\n",
       " '#oc-R3KP9BGLT1K7J0',\n",
       " '#oc-R3BFL0KFPM66H6',\n",
       " '#oc-R36DOJP1ZSZ9Y8',\n",
       " '#oc-R3QDBWZKB5TOBB',\n",
       " '#oc-R396SZDPAXVXPQ',\n",
       " '#oc-R3DTQ8B7WD49S2',\n",
       " '#oc-R1OTWY0232JAF9',\n",
       " '#oc-R3LN1O1XAS2EMI',\n",
       " '#oc-R1493EDK6REQ02',\n",
       " '#oc-RDF6K8UXX3UVI',\n",
       " '#oc-RWTD5HRIL253R',\n",
       " '#oc-RB52UIGZ2JPE2',\n",
       " '#oc-RDMOLOJCV5VD0',\n",
       " '#oc-R1LYYITMLLZNX7',\n",
       " '#oc-R2W8VENK53JCEI',\n",
       " '#oc-R3SMJW9GF11SUY',\n",
       " '#oc-R2YAIJQPFQ3JVB',\n",
       " '#oc-R1GL3ZQSX6KWIZ',\n",
       " '#oc-R12N3533IO3B79',\n",
       " '#oc-R1SA5IJKJKB5NX',\n",
       " '#oc-R1AYD24FXE1MV7',\n",
       " '#oc-R3V5XARFZHV0IR',\n",
       " '#oc-R6XZUO4F9WYVS',\n",
       " '#oc-R2H8OTJ9JBKYOD',\n",
       " '#oc-R149FDXLRARCWJ',\n",
       " '#oc-R3AW0XGZ06Q03O',\n",
       " '#oc-R2VCBU1KSEHMA9',\n",
       " '#oc-R2ZB2HNJXTDCXG',\n",
       " '#oc-RDU2EN0HNUORJ',\n",
       " '#oc-R3BRVT76VCL439',\n",
       " '#oc-R2R3OTFDNJN9JQ',\n",
       " '#oc-RX4GIINK3NRIJ',\n",
       " '#oc-RCP7C3JO7G9TM',\n",
       " '#oc-R35T9L1WI8990M',\n",
       " '#oc-RTT6JCOO6YA39',\n",
       " '#oc-R19B7LHEK1ARMD',\n",
       " '#oc-R40PWE1BFHMT2',\n",
       " '#oc-R1ZR5L29T4LSAE',\n",
       " '#oc-R2NE8ISCFVOS3']"
      ]
     },
     "execution_count": 80,
     "metadata": {},
     "output_type": "execute_result"
    }
   ],
   "source": [
    "[id for id in items['UserId'] if list(id)[0]!='A']"
   ]
  },
  {
   "cell_type": "code",
   "execution_count": 81,
   "metadata": {
    "collapsed": false
   },
   "outputs": [
    {
     "data": {
      "text/plain": [
       "{'HelpfulnessDenominator': 1L,\n",
       " 'HelpfulnessNumerator': 1L,\n",
       " 'Id': 1L,\n",
       " 'ProductId': 'B001E4KFG0',\n",
       " 'ProfileName': 'delmartian',\n",
       " 'Score': 5L,\n",
       " 'Summary': 'Good Quality Dog Food',\n",
       " 'Text': 'I have bought several of the Vitality canned dog food products and have found them all to be of good quality. The product looks more like a stew than a processed meat and it smells better. My Labrador is finicky and she appreciates this product better than  most.',\n",
       " 'Time': 1303862400L,\n",
       " 'UserId': 'A3SGXH7AUHU8GW'}"
      ]
     },
     "execution_count": 81,
     "metadata": {},
     "output_type": "execute_result"
    }
   ],
   "source": [
    "items[items['UserId']=='#oc-R15343ZW0UTLMR']"
   ]
  },
  {
   "cell_type": "code",
   "execution_count": 5,
   "metadata": {
    "collapsed": false
   },
   "outputs": [
    {
     "data": {
      "text/html": [
       "<div>\n",
       "<table border=\"1\" class=\"dataframe\">\n",
       "  <thead>\n",
       "    <tr style=\"text-align: right;\">\n",
       "      <th></th>\n",
       "      <th>ProductName</th>\n",
       "      <th>url</th>\n",
       "    </tr>\n",
       "  </thead>\n",
       "  <tbody>\n",
       "    <tr>\n",
       "      <th>asfaf</th>\n",
       "      <td>asf</td>\n",
       "      <td>afs</td>\n",
       "    </tr>\n",
       "  </tbody>\n",
       "</table>\n",
       "</div>"
      ],
      "text/plain": [
       "      ProductName  url\n",
       "asfaf         asf  afs"
      ]
     },
     "execution_count": 5,
     "metadata": {},
     "output_type": "execute_result"
    }
   ],
   "source": [
    "import pandas as pd \n",
    "d = pd.DataFrame(columns=['ProductName', 'url'])\n",
    "d.loc['asfaf'] = ['asf','afs']\n",
    "d"
   ]
  },
  {
   "cell_type": "code",
   "execution_count": 1,
   "metadata": {
    "collapsed": false
   },
   "outputs": [
    {
     "name": "stdout",
     "output_type": "stream",
     "text": [
      "(6335, 2)\n",
      "(4221, 3)\n",
      "            0                                                  1\n",
      "0  B0061RGVMC  HillTop Foods Original Fish Fry & Seafood Fry,...\n",
      "1  B00813GRG4  Southern Grove Premium Quality Roasted and Sal...\n",
      "2  B000LQOCH0  Turkish Delight Filbert (Hazelnuts) (Sultan) 1...\n",
      "3  B006K2ZZ7K                 Salt Water Taffy - Assorted, 5 lbs\n",
      "4  B000E7L2R4  Organic Barley Seeds - 9 Lbs in Pre-Measured B...\n",
      "         Item                                        ProductName  \\\n",
      "0  B004XFZ1CA  Equal Exchange Organic Dark Choc with Almonds,...   \n",
      "1  B000UXW992  Roland Seafood Antipasto, 4 3/8 Ounce (Pack of...   \n",
      "2  B004AG9Y8Y     Wilhelmina Peppermints, 1 lb 0.6 oz (500g) TIN   \n",
      "3  B001ELJJNS  Reserve Du Chateau 4 Week Wine Kit, BC Style G...   \n",
      "4  B0040PUEM0  Aloe Vera King 100% Organic Aloe Vera Drink, 1...   \n",
      "\n",
      "                                               Image  \n",
      "0  https://images-na.ssl-images-amazon.com/images...  \n",
      "1  https://images-na.ssl-images-amazon.com/images...  \n",
      "2  https://images-na.ssl-images-amazon.com/images...  \n",
      "3  https://images-na.ssl-images-amazon.com/images...  \n",
      "4  https://images-na.ssl-images-amazon.com/images...  \n"
     ]
    }
   ],
   "source": [
    "import pandas as pd\n",
    "\n",
    "data1 = pd.read_csv('../data/names.csv')\n",
    "# data1['2'] = pd.Series()\n",
    "data2 = pd.read_csv('../data/db60_75.csv')\n",
    "print (data1.shape)\n",
    "print (data2.shape)\n",
    "print (data1.head())\n",
    "print (data2.head())"
   ]
  },
  {
   "cell_type": "code",
   "execution_count": 6,
   "metadata": {
    "collapsed": false
   },
   "outputs": [
    {
     "data": {
      "text/plain": [
       "'Reserve Du Chateau 4 Week Wine Kit, BC Style Gewurztraminer, 17.5-Pound Box'"
      ]
     },
     "execution_count": 6,
     "metadata": {},
     "output_type": "execute_result"
    }
   ],
   "source": [
    "data2[data2['Item']== 'B001ELJJNS']['ProductName'].values[0]"
   ]
  },
  {
   "cell_type": "code",
   "execution_count": null,
   "metadata": {
    "collapsed": true
   },
   "outputs": [],
   "source": []
  }
 ],
 "metadata": {
  "kernelspec": {
   "display_name": "Python 2",
   "language": "python",
   "name": "python2"
  },
  "language_info": {
   "codemirror_mode": {
    "name": "ipython",
    "version": 2
   },
   "file_extension": ".py",
   "mimetype": "text/x-python",
   "name": "python",
   "nbconvert_exporter": "python",
   "pygments_lexer": "ipython2",
   "version": "2.7.11"
  }
 },
 "nbformat": 4,
 "nbformat_minor": 0
}
